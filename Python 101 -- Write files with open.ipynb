{
 "cells": [
  {
   "cell_type": "markdown",
   "metadata": {},
   "source": [
    "## Write and Save Files in Python"
   ]
  },
  {
   "cell_type": "markdown",
   "metadata": {},
   "source": [
    "### Writing Files"
   ]
  },
  {
   "cell_type": "code",
   "execution_count": 12,
   "metadata": {},
   "outputs": [],
   "source": [
    "# Write line to file\n",
    "\n",
    "with open('C:/Users/Pandey/Desktop/Coursera/testing.txt', 'w') as writefile:\n",
    "    writefile.write(\"You gotta be kidding me.\")"
   ]
  },
  {
   "cell_type": "code",
   "execution_count": 13,
   "metadata": {},
   "outputs": [
    {
     "name": "stdout",
     "output_type": "stream",
     "text": [
      "You gotta be kidding me.\n"
     ]
    }
   ],
   "source": [
    "# Read file\n",
    "with open('C:/Users/Pandey/Desktop/Coursera/testing.txt', 'r') as testwritefile:\n",
    "    print(testwritefile.read())"
   ]
  },
  {
   "cell_type": "code",
   "execution_count": 19,
   "metadata": {},
   "outputs": [],
   "source": [
    "# Write multiple lines to a file\n",
    "\n",
    "with open('C:/Users/Pandey/Desktop/Coursera/man.txt', 'w') as writefile:\n",
    "    writefile.write(\"I hope this works. I hope the file named man is created.\\n\")\n",
    "    writefile.write(\"Now the line is changed. \\n\")\n",
    "    writefile.write(\"How cool is that. \\n\")\n",
    "    writefile.write(\"Okay, bye bye!!!\\n\")\n",
    "                   "
   ]
  },
  {
   "cell_type": "code",
   "execution_count": 20,
   "metadata": {},
   "outputs": [
    {
     "name": "stdout",
     "output_type": "stream",
     "text": [
      "I hope this works. I hope the file named man is created.\n",
      "Now the line is changed. \n",
      "How cool is that. \n",
      "Okay, bye bye!!!\n",
      "\n"
     ]
    }
   ],
   "source": [
    "# Time to read the above file baby\n",
    "\n",
    "with open('C:/Users/Pandey/Desktop/Coursera/man.txt', 'r') as testwritefile:\n",
    "    print(testwritefile.read())"
   ]
  },
  {
   "cell_type": "markdown",
   "metadata": {},
   "source": [
    "## Use Append"
   ]
  },
  {
   "cell_type": "code",
   "execution_count": 21,
   "metadata": {},
   "outputs": [],
   "source": [
    "with open('C:/Users/Pandey/Desktop/Coursera/man.txt', 'a') as testwritefile:  # a is used to append\n",
    "    testwritefile.write(\"This is yet another addition.\\n\")"
   ]
  },
  {
   "cell_type": "code",
   "execution_count": 22,
   "metadata": {},
   "outputs": [
    {
     "name": "stdout",
     "output_type": "stream",
     "text": [
      "I hope this works. I hope the file named man is created.\n",
      "Now the line is changed. \n",
      "How cool is that. \n",
      "Okay, bye bye!!!\n",
      "This is yet another addition.\n",
      "\n"
     ]
    }
   ],
   "source": [
    "with open('C:/Users/Pandey/Desktop/Coursera/man.txt', 'r') as testwritefile:\n",
    "    print(testwritefile.read())"
   ]
  },
  {
   "cell_type": "markdown",
   "metadata": {},
   "source": [
    "### We write a list to a .txt file as follows:"
   ]
  },
  {
   "cell_type": "code",
   "execution_count": 23,
   "metadata": {},
   "outputs": [
    {
     "data": {
      "text/plain": [
       "['Wow \\n', 'chya \\n', 'eww\\n']"
      ]
     },
     "execution_count": 23,
     "metadata": {},
     "output_type": "execute_result"
    }
   ],
   "source": [
    "# Sample list of text\n",
    "\n",
    "Lines = [\"Wow \\n\", \"chya \\n\", \"eww\\n\"]\n",
    "Lines"
   ]
  },
  {
   "cell_type": "code",
   "execution_count": 24,
   "metadata": {},
   "outputs": [
    {
     "name": "stdout",
     "output_type": "stream",
     "text": [
      "Wow \n",
      "\n",
      "chya \n",
      "\n",
      "eww\n",
      "\n"
     ]
    }
   ],
   "source": [
    "# write the strings in the list to text file\n",
    "\n",
    "with open('Lady.txt', 'w') as writefile:\n",
    "    for line in Lines:\n",
    "        print(line)\n",
    "        writefile.write(line)"
   ]
  },
  {
   "cell_type": "code",
   "execution_count": 25,
   "metadata": {},
   "outputs": [
    {
     "name": "stdout",
     "output_type": "stream",
     "text": [
      "Wow \n",
      "chya \n",
      "eww\n",
      "\n"
     ]
    }
   ],
   "source": [
    "# Verify if the file is written by reading it and printing out the values:\n",
    "\n",
    "with open(\"Lady.txt\", 'r') as testwritefile:\n",
    "    print(testwritefile.read())"
   ]
  },
  {
   "cell_type": "code",
   "execution_count": 29,
   "metadata": {},
   "outputs": [],
   "source": [
    "with open(\"Lady.txt\", \"a\") as testwritefile:\n",
    "    testwritefile.write(\"Also, Frauen = Lady auf Englisch\")"
   ]
  },
  {
   "cell_type": "code",
   "execution_count": 28,
   "metadata": {},
   "outputs": [
    {
     "name": "stdout",
     "output_type": "stream",
     "text": [
      "Wow \n",
      "chya \n",
      "eww\n",
      "Also, Fraue = Lady auf Englisch\n"
     ]
    }
   ],
   "source": [
    "with open(\"Lady.txt\", 'r') as testwritefile:\n",
    "    print(testwritefile.read())"
   ]
  },
  {
   "cell_type": "markdown",
   "metadata": {},
   "source": [
    "### Learn to copy a File"
   ]
  },
  {
   "cell_type": "code",
   "execution_count": 33,
   "metadata": {},
   "outputs": [],
   "source": [
    "with open(\"Lady.txt\", 'r') as readfile:\n",
    "    with open(\"Man.txt\", 'w') as writefile:\n",
    "        for line in readfile:\n",
    "            writefile.write(line)"
   ]
  },
  {
   "cell_type": "code",
   "execution_count": 34,
   "metadata": {},
   "outputs": [
    {
     "name": "stdout",
     "output_type": "stream",
     "text": [
      "Wow \n",
      "chya \n",
      "eww\n",
      "Also, Fraue = Lady auf EnglischAlso, Frauen = Lady auf Englisch\n"
     ]
    }
   ],
   "source": [
    "with open(\"Man.txt\", 'r') as seefile:\n",
    "    print(seefile.read())"
   ]
  },
  {
   "cell_type": "markdown",
   "metadata": {},
   "source": [
    "Nach dem Lesen können wir die Datei in verschiedene Namen umbenennen, zum Beispiel, in  .txt, .csv, .xls und so weiter."
   ]
  },
  {
   "cell_type": "code",
   "execution_count": 45,
   "metadata": {},
   "outputs": [],
   "source": [
    "# Zum Beispiel \n",
    "# Writing a file and saving in .txt format\n",
    "file1 = open(\"C:/Users/Pandey/Desktop/Coursera/myfile.txt\",\"w\")\n",
    "L = [\"This is Delhi \\n\",\"This is Paris \\n\",\"This is London \\n\"]\n",
    "file1.writelines(L)\n",
    "file1.close()"
   ]
  },
  {
   "cell_type": "code",
   "execution_count": null,
   "metadata": {},
   "outputs": [],
   "source": []
  }
 ],
 "metadata": {
  "kernelspec": {
   "display_name": "Python 3",
   "language": "python",
   "name": "python3"
  },
  "language_info": {
   "codemirror_mode": {
    "name": "ipython",
    "version": 3
   },
   "file_extension": ".py",
   "mimetype": "text/x-python",
   "name": "python",
   "nbconvert_exporter": "python",
   "pygments_lexer": "ipython3",
   "version": "3.7.6"
  }
 },
 "nbformat": 4,
 "nbformat_minor": 4
}
